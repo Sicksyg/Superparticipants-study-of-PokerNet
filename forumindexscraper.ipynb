{
 "cells": [
  {
   "cell_type": "code",
   "execution_count": 1,
   "metadata": {},
   "outputs": [],
   "source": [
    "#Update BfSoup4, import modules and mount the drive to the runtime\n",
    "#!pip install requests beautifulsoup4 update\n",
    "import requests, bs4, csv, timeit, datetime\n",
    "import pandas as pd\n",
    "import time\n",
    "from datetime import date"
   ]
  },
  {
   "cell_type": "code",
   "execution_count": 2,
   "metadata": {},
   "outputs": [],
   "source": [
    "#from requests.models import encode_multipart_formdata\n",
    "def frontpage_scraper(filename, adress, pages):\n",
    "  fieldnames = [\"title\", \"date_created\", \"OP\", \"comments\", \"views\", \"date_edited\", \"last_user\", \"link\"]\n",
    "\n",
    "  with open(filename + \".csv\", \"w\", encoding= \"utf-8\") as fp:\n",
    "    writer = csv.DictWriter(fp, fieldnames=fieldnames)\n",
    "    writer.writeheader()\n",
    "\n",
    "    for page in range(pages):\n",
    "      time.sleep(0.2)\n",
    "      response = requests.get(adress + str(page+1))\n",
    "      response.encoding = \"utf-8\"\n",
    "      response.raise_for_status()\n",
    "      soup = bs4.BeautifulSoup(response.text, \"html.parser\")\n",
    "      for thread in soup.find_all(\"tr\"): #Runs trough all table rows (tr) of the forum front page\n",
    "        try:\n",
    "          title = thread.find(\"div\", \"title\").text\n",
    "          date_created = thread.find(\"div\", \"date\").text\n",
    "          op = thread.find(\"div\", \"date_details\").text\n",
    "          comments = thread.find(\"div\", \"replies\").text\n",
    "          views = thread.find(\"div\", \"views\").text\n",
    "          date_edited = thread.find(\"div\", \"last_post\").text\n",
    "          last_user = thread.find(\"div\", \"last_post_details\").text\n",
    "          link = thread.find(class_=\"link\",href = True)\n",
    "                  \n",
    "          #Writes all the relevant features to the file\n",
    "          writer.writerow({\"title\": title, \"date_created\": date_created, \"OP\": op.lstrip(\"af \"),\\\n",
    "                           \"comments\": comments, \"views\": views, \"date_edited\": date_edited,\\\n",
    "                           \"last_user\": last_user.lstrip(\"af \"), \"link\": link[\"href\"]})\n",
    "        \n",
    "        #prevents errors from stopping runtime\n",
    "        except TypeError:\n",
    "          continue\n",
    "        except AttributeError:\n",
    "          continue"
   ]
  },
  {
   "cell_type": "code",
   "execution_count": 3,
   "metadata": {},
   "outputs": [],
   "source": [
    "#Initiate the frontpage_scraper - Scrapes the frontpage of the off-topic forum:\n",
    "frontpage_scraper(\"Pokernet_forumindex\", \"https://www.pokernet.dk/forum/kategorier/frontpage/off-topic.html?p=\", 1407)"
   ]
  }
 ],
 "metadata": {
  "interpreter": {
   "hash": "4a51890f1bbdc3be9ae6dc995aedfd420533dc256438d69fed761240f5f6d86e"
  },
  "kernelspec": {
   "display_name": "Python 3.8.12 ('base')",
   "language": "python",
   "name": "python3"
  },
  "language_info": {
   "codemirror_mode": {
    "name": "ipython",
    "version": 3
   },
   "file_extension": ".py",
   "mimetype": "text/x-python",
   "name": "python",
   "nbconvert_exporter": "python",
   "pygments_lexer": "ipython3",
   "version": "3.8.12"
  },
  "orig_nbformat": 4
 },
 "nbformat": 4,
 "nbformat_minor": 2
}
